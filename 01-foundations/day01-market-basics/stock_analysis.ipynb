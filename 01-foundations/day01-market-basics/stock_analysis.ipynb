{
 "cells": [
  {
   "cell_type": "markdown",
   "metadata": {},
   "source": [
    "# Day 1: Stock Data Analysis\n",
    "\n",
    "## Learning Objectives\n",
    "1. Download stock data from Yahoo Finance\n",
    "2. Calculate returns and volatility\n",
    "3. Create professional visualizations\n",
    "4. Understand basic risk metrics"
   ]
  },
  {
   "cell_type": "code",
   "execution_count": null,
   "metadata": {},
   "outputs": [],
   "source": [
    "# Import libraries\n",
    "import yfinance as yf\n",
    "import pandas as pd\n",
    "import numpy as np\n",
    "import matplotlib.pyplot as plt\n",
    "import seaborn as sns\n",
    "from datetime import datetime, timedelta\n",
    "\n",
    "# Set style\n",
    "plt.style.use('seaborn-v0_8-darkgrid')\n",
    "sns.set_palette(\"husl\")\n",
    "\n",
    "print(\"✅ Libraries imported successfully!\")"
   ]
  },
  {
   "cell_type": "markdown",
   "metadata": {},
   "source": [
    "## Step 1: Download Stock Data"
   ]
  },
  {
   "cell_type": "code",
   "execution_count": null,
   "metadata": {},
   "outputs": [],
   "source": [
    "# Choose a stock ticker\n",
    "ticker = 'AAPL'  # Try: MSFT, GOOGL, TSLA, SPY\n",
    "\n",
    "# Download data\n",
    "data = yf.download(ticker, start='2023-01-01', end='2024-10-29')\n",
    "\n",
    "print(f\"Downloaded {len(data)} days of data for {ticker}\")\n",
    "data.head()"
   ]
  },
  {
   "cell_type": "markdown",
   "metadata": {},
   "source": [
    "## Step 2: Calculate Returns"
   ]
  },
  {
   "cell_type": "code",
   "execution_count": null,
   "metadata": {},
   "outputs": [],
   "source": [
    "# Simple returns\n",
    "data['Simple_Return'] = data['Adj Close'].pct_change()\n",
    "\n",
    "# Log returns (preferred in quant finance)\n",
    "data['Log_Return'] = np.log(data['Adj Close'] / data['Adj Close'].shift(1))\n",
    "\n",
    "# Display statistics\n",
    "print(\"Returns Statistics:\")\n",
    "print(f\"Mean Daily Return: {data['Log_Return'].mean():.4%}\")\n",
    "print(f\"Daily Volatility: {data['Log_Return'].std():.4%}\")\n",
    "print(f\"Annualized Return: {data['Log_Return'].mean() * 252:.2%}\")\n",
    "print(f\"Annualized Volatility: {data['Log_Return'].std() * np.sqrt(252):.2%}\")\n",
    "\n",
    "data[['Adj Close', 'Simple_Return', 'Log_Return']].tail()"
   ]
  },
  {
   "cell_type": "markdown",
   "metadata": {},
   "source": [
    "## Step 3: Visualize Price and Volume"
   ]
  },
  {
   "cell_type": "code",
   "execution_count": null,
   "metadata": {},
   "outputs": [],
   "source": [
    "fig, ax1 = plt.subplots(figsize=(14, 6))\n",
    "ax2 = ax1.twinx()\n",
    "\n",
    "# Plot price\n",
    "ax1.plot(data.index, data['Adj Close'], color='blue', linewidth=2, label='Price')\n",
    "ax1.set_xlabel('Date', fontsize=12)\n",
    "ax1.set_ylabel('Price ($)', color='blue', fontsize=12)\n",
    "ax1.tick_params(axis='y', labelcolor='blue')\n",
    "\n",
    "# Plot volume\n",
    "ax2.bar(data.index, data['Volume'], alpha=0.3, color='gray', label='Volume')\n",
    "ax2.set_ylabel('Volume', color='gray', fontsize=12)\n",
    "ax2.tick_params(axis='y', labelcolor='gray')\n",
    "\n",
    "plt.title(f'{ticker} Price and Volume', fontsize=14, fontweight='bold')\n",
    "ax1.legend(loc='upper left')\n",
    "plt.grid(True, alpha=0.3)\n",
    "plt.tight_layout()\n",
    "plt.show()"
   ]
  },
  {
   "cell_type": "markdown",
   "metadata": {},
   "source": [
    "## Step 4: Returns Distribution"
   ]
  },
  {
   "cell_type": "code",
   "execution_count": null,
   "metadata": {},
   "outputs": [],
   "source": [
    "plt.figure(figsize=(12, 6))\n",
    "\n",
    "# Histogram\n",
    "returns = data['Log_Return'].dropna()\n",
    "plt.hist(returns, bins=50, alpha=0.7, color='purple', edgecolor='black')\n",
    "\n",
    "# Add mean line\n",
    "plt.axvline(returns.mean(), color='red', linestyle='--', linewidth=2, \n",
    "            label=f'Mean: {returns.mean():.4f}')\n",
    "plt.axvline(0, color='black', linestyle='-', linewidth=1, alpha=0.5)\n",
    "\n",
    "plt.title(f'{ticker} Daily Log Returns Distribution', fontsize=14, fontweight='bold')\n",
    "plt.xlabel('Log Return', fontsize=12)\n",
    "plt.ylabel('Frequency', fontsize=12)\n",
    "plt.legend(fontsize=10)\n",
    "plt.grid(True, alpha=0.3)\n",
    "plt.show()\n",
    "\n",
    "print(f\"Skewness: {returns.skew():.2f}\")\n",
    "print(f\"Kurtosis: {returns.kurtosis():.2f}\")"
   ]
  },
  {
   "cell_type": "markdown",
   "metadata": {},
   "source": [
    "## Step 5: Rolling Volatility"
   ]
  },
  {
   "cell_type": "code",
   "execution_count": null,
   "metadata": {},
   "outputs": [],
   "source": [
    "# Calculate 30-day rolling volatility\n",
    "data['Rolling_Vol'] = data['Log_Return'].rolling(window=30).std() * np.sqrt(252)\n",
    "\n",
    "plt.figure(figsize=(14, 6))\n",
    "plt.plot(data.index, data['Rolling_Vol'], color='orange', linewidth=2)\n",
    "plt.fill_between(data.index, data['Rolling_Vol'], alpha=0.3, color='orange')\n",
    "\n",
    "plt.title(f'{ticker} 30-Day Rolling Volatility (Annualized)', fontsize=14, fontweight='bold')\n",
    "plt.xlabel('Date', fontsize=12)\n",
    "plt.ylabel('Volatility', fontsize=12)\n",
    "plt.grid(True, alpha=0.3)\n",
    "plt.tight_layout()\n",
    "plt.show()"
   ]
  },
  {
   "cell_type": "markdown",
   "metadata": {},
   "source": [
    "## Step 6: Cumulative Returns"
   ]
  },
  {
   "cell_type": "code",
   "execution_count": null,
   "metadata": {},
   "outputs": [],
   "source": [
    "# Calculate cumulative returns\n",
    "cumulative_returns = (1 + data['Simple_Return']).cumprod()\n",
    "\n",
    "plt.figure(figsize=(14, 6))\n",
    "plt.plot(data.index, cumulative_returns, color='green', linewidth=2, label='Cumulative Return')\n",
    "plt.axhline(y=1, color='black', linestyle='--', linewidth=1, label='Break-even')\n",
    "\n",
    "plt.fill_between(data.index, 1, cumulative_returns, \n",
    "                 where=(cumulative_returns >= 1), alpha=0.3, color='green')\n",
    "plt.fill_between(data.index, 1, cumulative_returns, \n",
    "                 where=(cumulative_returns < 1), alpha=0.3, color='red')\n",
    "\n",
    "plt.title(f'{ticker} Cumulative Returns', fontsize=14, fontweight='bold')\n",
    "plt.xlabel('Date', fontsize=12)\n",
    "plt.ylabel('Cumulative Return', fontsize=12)\n",
    "plt.legend(fontsize=10)\n",
    "plt.grid(True, alpha=0.3)\n",
    "plt.tight_layout()\n",
    "plt.show()\n",
    "\n",
    "total_return = (cumulative_returns.iloc[-1] - 1) * 100\n",
    "print(f\"Total Return: {total_return:.2f}%\")"
   ]
  },
  {
   "cell_type": "markdown",
   "metadata": {},
   "source": [
    "## 🎯 Exercise: Try It Yourself!\n",
    "\n",
    "1. Change the ticker to analyze a different stock\n",
    "2. Compare multiple stocks (AAPL, MSFT, GOOGL)\n",
    "3. Calculate Sharpe Ratio\n",
    "4. Find the maximum drawdown"
   ]
  },
  {
   "cell_type": "code",
   "execution_count": null,
   "metadata": {},
   "outputs": [],
   "source": [
    "# Your code here!\n"
   ]
  }
 ],
 "metadata": {
  "kernelspec": {
   "display_name": "Python 3",
   "language": "python",
   "name": "python3"
  },
  "language_info": {
   "codemirror_mode": {
    "name": "ipython",
    "version": 3
   },
   "file_extension": ".py",
   "mimetype": "text/x-python",
   "name": "python",
   "nbconvert_exporter": "python",
   "pygments_lexer": "ipython3",
   "version": "3.10.0"
  }
 },
 "nbformat": 4,
 "nbformat_minor": 4
}
